{
  "nbformat": 4,
  "nbformat_minor": 0,
  "metadata": {
    "colab": {
      "provenance": [],
      "include_colab_link": true
    },
    "kernelspec": {
      "name": "python3",
      "display_name": "Python 3"
    },
    "language_info": {
      "name": "python"
    }
  },
  "cells": [
    {
      "cell_type": "markdown",
      "metadata": {
        "id": "view-in-github",
        "colab_type": "text"
      },
      "source": [
        "<a href=\"https://colab.research.google.com/github/alext33/Projet_partition/blob/main/Projet_partition.ipynb\" target=\"_parent\"><img src=\"https://colab.research.google.com/assets/colab-badge.svg\" alt=\"Open In Colab\"/></a>"
      ]
    },
    {
      "cell_type": "code",
      "source": [
        "class Note():\n",
        "    def __init__(self, note,octave):\n",
        "        self.note = note\n",
        "        self.octave = octave\n",
        "\n",
        "        A1= 55 #freq de référence\n",
        "\n",
        "        self.notes = [\"A\", \"A#\", \"B\", \"C\", \"C#\", \"D\", \"D#\", \"E\", \"F\", \"F#\", \"G\", \"G#\"]\n",
        "        demi_tons = [0, 1, 2, 3, 4, 5, 6, 7, 8, 9, 10, 11]\n",
        "        self.liste_notes = []\n",
        "\n",
        "        for i in range(len(self.notes)):\n",
        "          frequence = A1 * (2 ** (demi_tons[i] / 12))\n",
        "          self.liste_notes.append(frequence)\n",
        "\n",
        "        note_out= self.notes.index(note)\n",
        "        frequence = self.liste_notes[note_out]\n",
        "        self.frequence = frequence*2**self.octave\n",
        "\n",
        "n=Note(\"D#\",1)\n",
        "n.frequence\n"
      ],
      "metadata": {
        "colab": {
          "base_uri": "https://localhost:8080/"
        },
        "id": "vODe7B5kPFAH",
        "outputId": "507decd4-8306-4f36-e178-7c58a603b1de"
      },
      "execution_count": 32,
      "outputs": [
        {
          "output_type": "execute_result",
          "data": {
            "text/plain": [
              "155.56349186104046"
            ]
          },
          "metadata": {},
          "execution_count": 32
        }
      ]
    }
  ]
}