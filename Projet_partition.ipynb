{
  "nbformat": 4,
  "nbformat_minor": 0,
  "metadata": {
    "colab": {
      "provenance": [],
      "include_colab_link": true
    },
    "kernelspec": {
      "name": "python3",
      "display_name": "Python 3"
    },
    "language_info": {
      "name": "python"
    }
  },
  "cells": [
    {
      "cell_type": "markdown",
      "metadata": {
        "id": "view-in-github",
        "colab_type": "text"
      },
      "source": [
        "<a href=\"https://colab.research.google.com/github/alext33/Projet_partition/blob/main/Projet_partition.ipynb\" target=\"_parent\"><img src=\"https://colab.research.google.com/assets/colab-badge.svg\" alt=\"Open In Colab\"/></a>"
      ]
    },
    {
      "cell_type": "code",
      "source": [
        "import numpy as np\n",
        "\n",
        "class Note():\n",
        "  \n",
        "    sps=44100\n",
        "    def __init__(self,note,octave,duree):\n",
        "        self.note = note\n",
        "        self.duree=duree\n",
        "        self.octave = octave\n",
        "        self.liste_notes = []\n",
        "        self.notes = [\"A\", \"A#\", \"B\", \"C\", \"C#\", \"D\", \"D#\", \"E\", \"F\", \"F#\", \"G\", \"G#\"]\n",
        "\n",
        "        A1= 55 #freq de référence\n",
        "        demi_tons = [0, 1, 2, 3, 4, 5, 6, 7, 8, 9, 10, 11]\n",
        "        \n",
        "        for i in range(len(self.notes)):\n",
        "          frequence = A1 * (2 ** (demi_tons[i] / 12))\n",
        "          self.liste_notes.append(frequence)\n",
        "\n",
        "        note_out= self.notes.index(note)\n",
        "        frequence = self.liste_notes[note_out]\n",
        "        self.frequence = frequence*2**self.octave\n",
        "        \n",
        "    def play(self):\n",
        "        sd.play(self.get_waveform, self.sps)\n",
        "        sd.stop()\n",
        "\n",
        "    def get_waveform(self):\n",
        "        each_sample_number = np.linspace(0, self.duree, self.duree * self.sps)\n",
        "        waveform=np.sin(2 * np.pi * each_sample_number * self.frequence / self.sps)\n",
        "        return waveform\n",
        "\n",
        "\n",
        "\n",
        "class Partition(list):\n",
        "    def __init__(self):\n",
        "        self.notes = []\n",
        "\n",
        "    def play(self):\n",
        "        big_note = \"\"\n",
        "        waveform= self[0].get_waveform()\n",
        "        for index, note in enumerate(self.notes):\n",
        "          if index>0:\n",
        "            waveform = np.concatenate((waveform,note.get_waveform()))\n",
        "        return waveform         \n",
        "\n",
        "\n",
        "partition = Partition()\n",
        "partition.append(Note(\"C\", 2,3))\n",
        "partition.append(Note(\"E\", 2,2))\n",
        "partition.append(Note(\"A\", 2,1))\n",
        "\n",
        "for note in partition:\n",
        "    print(\"La note {} dans l'octave {} a une fréquence de {:.2f}Hz\".format(note.note, note.octave, note.frequence))\n",
        "\n",
        "A=partition.play()\n",
        "print(A)\n",
        "\n"
      ],
      "metadata": {
        "colab": {
          "base_uri": "https://localhost:8080/"
        },
        "id": "vODe7B5kPFAH",
        "outputId": "0616b923-1ab9-4273-e8a7-fe3d81886a03"
      },
      "execution_count": 40,
      "outputs": [
        {
          "output_type": "stream",
          "name": "stdout",
          "text": [
            "La note C dans l'octave 2 a une fréquence de 261.63Hz\n",
            "La note E dans l'octave 2 a une fréquence de 329.63Hz\n",
            "La note A dans l'octave 2 a une fréquence de 220.00Hz\n",
            "[0.00000000e+00 8.45251893e-07 1.69050379e-06 ... 1.11591381e-01\n",
            " 1.11592221e-01 1.11593061e-01]\n"
          ]
        }
      ]
    },
    {
      "cell_type": "code",
      "source": [
        "A =partition[0].get_waveform()\n",
        "B = partition[1].get_waveform()\n",
        "C=np.concatenate((A, B))"
      ],
      "metadata": {
        "id": "i0iPThgvZVHt"
      },
      "execution_count": 35,
      "outputs": []
    },
    {
      "cell_type": "code",
      "source": [
        "      partition = Partition()\n",
        "      partition.add_note(Note(\"C\"))\n",
        "      partition.add_note(Note(\"D\"))\n",
        "      partition.add_note(Note(\"E\"))\n",
        "      partition.play_all()\n",
        "\n",
        "\n",
        "      partition = Partition()\n",
        "      partition.append(Note(\"C\", 2))\n",
        "      partition.append(Note(\"E\", 2))\n",
        "      partition.append(Note(\"A\", 2))"
      ],
      "metadata": {
        "id": "KHdgTdYCQvNi"
      },
      "execution_count": null,
      "outputs": []
    },
    {
      "cell_type": "code",
      "source": [
        "C"
      ],
      "metadata": {
        "colab": {
          "base_uri": "https://localhost:8080/"
        },
        "id": "rN6MQoV8bC8w",
        "outputId": "0a0032a8-b02c-487c-d8a4-646ba606abe7"
      },
      "execution_count": 36,
      "outputs": [
        {
          "output_type": "execute_result",
          "data": {
            "text/plain": [
              "array([0.00000000e+00, 8.45251893e-07, 1.69050379e-06, ...,\n",
              "       9.37877654e-02, 9.37888256e-02, 9.37898859e-02])"
            ]
          },
          "metadata": {},
          "execution_count": 36
        }
      ]
    },
    {
      "cell_type": "markdown",
      "source": [
        "https://www.gcworks.fr/tutoriel/microbit/Musiquelebuzzer.html\n",
        "\n",
        "https://www.audiokeys.net/forum/forum/les-bancs-d-essais-ressources-tutos-synth%C3%A8se-partitions/les-ressources/outils-mao/31579-python-et-la-musique\n",
        "\n",
        "Module interface graphique: PyQT5, Pygame\n"
      ],
      "metadata": {
        "id": "rkxTyU5xrWZD"
      }
    },
    {
      "cell_type": "code",
      "source": [
        "import numpy as np\n",
        "import sounddevice as sd\n",
        "import time\n",
        "\n",
        "for note in partition.notes:\n",
        "  # Samples per second\n",
        "  sps = 44100\n",
        "\n",
        "  # Frequency \n",
        "  freq_hz = partition.notes\n",
        "\n",
        "  # Duration\n",
        "  duration_s = 3.0\n",
        "\n",
        "\n",
        "  # NumpPy magic to calculate the waveform\n",
        "  each_sample_number = np.arange(duration_s * sps)\n",
        "  waveform = np.sin(2 * np.pi * each_sample_number * freq_hz / sps)\n",
        "\n",
        "  # Play the waveform out the speakers\n",
        "  sd.play(waveform, sps)\n",
        "  time.sleep(duration_s)\n",
        "  sd.stop()"
      ],
      "metadata": {
        "id": "WnC4z6K9bU6i",
        "colab": {
          "base_uri": "https://localhost:8080/",
          "height": 384
        },
        "outputId": "4ea15683-dfed-43a6-8112-01df16889b84"
      },
      "execution_count": null,
      "outputs": [
        {
          "output_type": "error",
          "ename": "ModuleNotFoundError",
          "evalue": "ignored",
          "traceback": [
            "\u001b[0;31m---------------------------------------------------------------------------\u001b[0m",
            "\u001b[0;31mModuleNotFoundError\u001b[0m                       Traceback (most recent call last)",
            "\u001b[0;32m<ipython-input-6-86742c70d3e0>\u001b[0m in \u001b[0;36m<module>\u001b[0;34m\u001b[0m\n\u001b[1;32m      1\u001b[0m \u001b[0;32mimport\u001b[0m \u001b[0mnumpy\u001b[0m \u001b[0;32mas\u001b[0m \u001b[0mnp\u001b[0m\u001b[0;34m\u001b[0m\u001b[0;34m\u001b[0m\u001b[0m\n\u001b[0;32m----> 2\u001b[0;31m \u001b[0;32mimport\u001b[0m \u001b[0msounddevice\u001b[0m \u001b[0;32mas\u001b[0m \u001b[0msd\u001b[0m\u001b[0;34m\u001b[0m\u001b[0;34m\u001b[0m\u001b[0m\n\u001b[0m\u001b[1;32m      3\u001b[0m \u001b[0;32mimport\u001b[0m \u001b[0mtime\u001b[0m\u001b[0;34m\u001b[0m\u001b[0;34m\u001b[0m\u001b[0m\n\u001b[1;32m      4\u001b[0m \u001b[0;34m\u001b[0m\u001b[0m\n\u001b[1;32m      5\u001b[0m \u001b[0;31m# Samples per second\u001b[0m\u001b[0;34m\u001b[0m\u001b[0;34m\u001b[0m\u001b[0;34m\u001b[0m\u001b[0m\n",
            "\u001b[0;31mModuleNotFoundError\u001b[0m: No module named 'sounddevice'",
            "",
            "\u001b[0;31m---------------------------------------------------------------------------\u001b[0;32m\nNOTE: If your import is failing due to a missing package, you can\nmanually install dependencies using either !pip or !apt.\n\nTo view examples of installing some common dependencies, click the\n\"Open Examples\" button below.\n\u001b[0;31m---------------------------------------------------------------------------\u001b[0m\n"
          ],
          "errorDetails": {
            "actions": [
              {
                "action": "open_url",
                "actionText": "Open Examples",
                "url": "/notebooks/snippets/importing_libraries.ipynb"
              }
            ]
          }
        }
      ]
    }
  ]
}